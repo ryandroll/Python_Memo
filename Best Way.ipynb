{
 "cells": [
  {
   "cell_type": "markdown",
   "metadata": {},
   "source": [
    "我喜歡程式設計的架構，就像王垠說的，一種\"數據流\"、\"電路的概念\"   \n",
    "像是操作單字的例子，我會思考中間我需要怎樣的變換，然後用函數實現  \n",
    "而這個函數的切割點最好是遍歷過一次的情況下切割\n",
    "之後再創造下個函數再調用上一個數據結構   \n",
    "然後一起放在 if name == main 執行   \n",
    "這樣可以隔開命名空間，     \n",
    "並可以透過中間數據檢查我思考方向正不正確\n",
    "也可以快速轉換適合的數據結構"
   ]
  },
  {
   "cell_type": "markdown",
   "metadata": {},
   "source": [
    "如果要回傳字典或串列要去掉某些元素，直接在 return 使用列表推導"
   ]
  },
  {
   "cell_type": "markdown",
   "metadata": {},
   "source": [
    "最快的集合運算  \n",
    "一般來說操作集合使用方法會比操符快，而且也比較好理解"
   ]
  },
  {
   "cell_type": "markdown",
   "metadata": {},
   "source": [
    "兩個列表中的交集元素"
   ]
  },
  {
   "cell_type": "code",
   "execution_count": 17,
   "metadata": {
    "collapsed": false
   },
   "outputs": [
    {
     "name": "stdout",
     "output_type": "stream",
     "text": [
      "List F: [1, 2, 3, 4]\n"
     ]
    }
   ],
   "source": [
    "D = [1, 2, 3, 3, 4]\n",
    "E = [3, 2, 5, 4, 1]\n",
    "F = list(set(D).intersection(E))\n",
    "print(\"List F: {}\".format(F))"
   ]
  },
  {
   "cell_type": "markdown",
   "metadata": {},
   "source": [
    "兩個字典的值相減最好方式"
   ]
  },
  {
   "cell_type": "code",
   "execution_count": 18,
   "metadata": {
    "collapsed": false
   },
   "outputs": [
    {
     "name": "stdout",
     "output_type": "stream",
     "text": [
      "Dict C: {'d': -3, 'c': -1, 'a': 3, 'b': 1}\n"
     ]
    }
   ],
   "source": [
    "A = {'a':3, 'b':2, 'c':1}\n",
    "B = {'b':1, 'c':2, 'd':3}\n",
    "C = {key: A.get(key, 0) - B.get(key, 0) for key in set(A).union(B)}\n",
    "print(\"Dict C: {}\".format(C))"
   ]
  },
  {
   "cell_type": "markdown",
   "metadata": {},
   "source": [
    "儘量使用list comprehension 或是 generator 來取代 map, filter  \n",
    "除非直接使用內建的函數，尤其是map，map使用lambda會慢很多   \n",
    "此外 map 與 filter 只接受單參數，有時候要 currying，直接在列表推導使用完整函數表達會強很多   \n",
    "儘量使用 max min len all any 等函數取代 reduce  "
   ]
  },
  {
   "cell_type": "code",
   "execution_count": 19,
   "metadata": {
    "collapsed": false
   },
   "outputs": [
    {
     "data": {
      "text/plain": [
       "(0, -8, -5, -19, -20, -8, -19, -18)"
      ]
     },
     "execution_count": 19,
     "metadata": {},
     "output_type": "execute_result"
    }
   ],
   "source": [
    "def wordcode(wrd):\n",
    "    '''\n",
    "    import spring return the tuple, \n",
    "    reprecent the step between first alphabet\n",
    "    first alphabet equal zero use ord()\n",
    "    '''\n",
    "    ord_string = map(ord, wrd)\n",
    "    move_to_zero = tuple(i - ord(wrd[0]) for i in ord_string)\n",
    "    return move_to_zero\n",
    "\n",
    "wordcode('wordcode')"
   ]
  },
  {
   "cell_type": "markdown",
   "metadata": {},
   "source": [
    "可以當作key值的字典"
   ]
  },
  {
   "cell_type": "code",
   "execution_count": 20,
   "metadata": {
    "collapsed": true
   },
   "outputs": [],
   "source": [
    "class hashabledict(dict):\n",
    "    def __key(self):\n",
    "        return tuple((k,self[k]) for k in sorted(self))\n",
    "    def __hash__(self):\n",
    "        return hash(self.__key())\n",
    "    def __eq__(self, other):\n",
    "        return self.__key() == other.__key()"
   ]
  },
  {
   "cell_type": "code",
   "execution_count": null,
   "metadata": {
    "collapsed": true
   },
   "outputs": [],
   "source": []
  }
 ],
 "metadata": {
  "anaconda-cloud": {},
  "kernelspec": {
   "display_name": "Python [py34]",
   "language": "python",
   "name": "Python [py34]"
  },
  "language_info": {
   "codemirror_mode": {
    "name": "ipython",
    "version": 3
   },
   "file_extension": ".py",
   "mimetype": "text/x-python",
   "name": "python",
   "nbconvert_exporter": "python",
   "pygments_lexer": "ipython3",
   "version": "3.4.5"
  }
 },
 "nbformat": 4,
 "nbformat_minor": 0
}
